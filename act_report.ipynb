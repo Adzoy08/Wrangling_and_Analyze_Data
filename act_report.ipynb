{
 "cells": [
  {
   "cell_type": "markdown",
   "metadata": {},
   "source": [
    "## Report: act_report\n",
    "#### By: [Samuel Duah Boadi](https://www.linkedin.com/in/samuel-duah-boadi-8ab46944/)"
   ]
  },
  {
   "cell_type": "markdown",
   "metadata": {},
   "source": [
    "## Introduction\n",
    "Analyzing and visualizing a dirty and untidy data could be stressful and even lead to wrong conclusion.<br/> \n",
    "It is important to clean a data before analyzing and visualizing.\n",
    "\n",
    "The data in twitter_archive_master.csv file is cleaned and ready for analyses and visualization."
   ]
  },
  {
   "cell_type": "markdown",
   "metadata": {},
   "source": [
    "## Insights\n",
    "\n",
    "> Based on the data, dog owners or tweeters gave their dog names that were similar to others.<br/> \n",
    "Most of the names were not unique.\n",
    "\n",
    "> The image classifier predicted an image three different times.<br/>\n",
    "Combining the three different predictions, there were 1751 dog breeds but 113 distinct breeds.<br/>\n",
    "Golden retriever dog breed was the most common breed whether from the first, second and third predictions.<br/> \n",
    "Labrador retriever, Chihuahua and Toy poodle were second most common breed from the first, second and third predictions respectively."
   ]
  },
  {
   "cell_type": "markdown",
   "metadata": {},
   "source": [
    " Retweet count and favorite count had a positive correlation. ![](image/RetweetFavorite.jpg)"
   ]
  },
  {
   "cell_type": "markdown",
   "metadata": {},
   "source": [
    "## Visualization"
   ]
  },
  {
   "cell_type": "markdown",
   "metadata": {},
   "source": [
    "Using the first prediction in the image classfy, \n",
    "here are the top ten dog breeds in the tweet's images. \n",
    "![](image/TopDogBreeds.jpg)"
   ]
  },
  {
   "cell_type": "markdown",
   "metadata": {},
   "source": [
    "The puppo dog shown below had the highest favorite count (132810) in the dataset\n",
    "![](image/puppo.jpg)"
   ]
  },
  {
   "cell_type": "markdown",
   "metadata": {},
   "source": [
    "The dog with the highest retweet count (79515) was a doggo\n",
    "![](image/doggo.jpg)"
   ]
  },
  {
   "cell_type": "markdown",
   "metadata": {},
   "source": [
    "The dog with the highest rating (177.6) was Atticus \n",
    "![](image/atticus.jpg)"
   ]
  },
  {
   "cell_type": "markdown",
   "metadata": {},
   "source": [
    "Dog breeds predicted by the image classifier (p1, p2 and p3)\n",
    "![](image/wordcloud.jpg)"
   ]
  },
  {
   "cell_type": "code",
   "execution_count": null,
   "metadata": {},
   "outputs": [],
   "source": []
  }
 ],
 "metadata": {
  "kernelspec": {
   "display_name": "Python 3 (ipykernel)",
   "language": "python",
   "name": "python3"
  },
  "language_info": {
   "codemirror_mode": {
    "name": "ipython",
    "version": 3
   },
   "file_extension": ".py",
   "mimetype": "text/x-python",
   "name": "python",
   "nbconvert_exporter": "python",
   "pygments_lexer": "ipython3",
   "version": "3.8.12"
  }
 },
 "nbformat": 4,
 "nbformat_minor": 2
}
